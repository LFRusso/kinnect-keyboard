{
 "cells": [
  {
   "cell_type": "markdown",
   "id": "6df14c6a",
   "metadata": {},
   "source": [
    "# SCC0287 - Trabalho 2\n",
    "- Luiz Fernando S. Eugênio dos Santos\n",
    "- 10892680\n",
    "\n",
    "## Introdução\n",
    "\n",
    "No presente projeto, será feito o treinamento de um modelo para o reconhecimento de alguns gestos em libras. O objetivo final é produzir uma etapa do pipeline para uma aplicação de \"teclado\" por reconhecimento de gestos usando uma câmera com sensor de profundidade. No caso, será usado o sensor *Kinnect* do console de videogame *Xbox 360* da *Microsoft*. \n",
    "\n",
    "Também vale comentar que libras conta com gestos que podem ser reconhecidos unicamente por uma posição da mão bem como outros que contém movimento e posições relativas de outras partes do corpo. Por simplicidade, seguiremos a abordagem descrita no paper *Recognition of Static Gestures Applied to Brazilian Sign Language (Libras)* (Bastos, I. et al.), bem como seu dataset coletado. Queremos apenas um alfabeto completo, portanto, para compensar pela falta de algumas letras, estas serão substituídas por outras palavras ao passo que as palavras restantes serão deixadas de lado. \n",
    "\n",
    "## Carregando Dataset"
   ]
  },
  {
   "cell_type": "code",
   "execution_count": 1,
   "id": "8ed9bb38",
   "metadata": {},
   "outputs": [],
   "source": [
    "import matplotlib.pyplot as plt\n",
    "from skimage.color import rgb2gray\n",
    "from skimage import io\n",
    "import os\n",
    "import mahotas as mt\n",
    "from skimage.feature import hog\n",
    "import numpy as np"
   ]
  },
  {
   "cell_type": "code",
   "execution_count": 2,
   "id": "262f0735",
   "metadata": {},
   "outputs": [],
   "source": [
    "# Obtendo paths para todas as classes e imagens\n",
    "PATH = \"./Folds_Dataset_Final/\"\n",
    "img_paths = {}\n",
    "for folder in os.listdir(PATH):\n",
    "    if (os.path.isdir(PATH+folder)):\n",
    "        folder_path = PATH+folder\n",
    "        for c in os.listdir(folder_path):\n",
    "            if c in img_paths.keys():\n",
    "                img_paths[c] += [folder_path+\"/\"+c+\"/\"+i for i in os.listdir(folder_path+\"/\"+c)]\n",
    "            else:\n",
    "                img_paths[c] = [folder_path+\"/\"+c+\"/\"+i for i in os.listdir(folder_path+\"/\"+c)]"
   ]
  },
  {
   "cell_type": "code",
   "execution_count": 3,
   "id": "cf813da1",
   "metadata": {},
   "outputs": [
    {
     "data": {
      "text/plain": [
       "['./Folds_Dataset_Final/Fold3/X/16.PNG',\n",
       " './Folds_Dataset_Final/Fold3/X/c4.PNG',\n",
       " './Folds_Dataset_Final/Fold3/X/8.PNG',\n",
       " './Folds_Dataset_Final/Fold3/X/6.PNG',\n",
       " './Folds_Dataset_Final/Fold3/X/c19.PNG',\n",
       " './Folds_Dataset_Final/Fold3/X/2.PNG',\n",
       " './Folds_Dataset_Final/Fold3/X/18.PNG',\n",
       " './Folds_Dataset_Final/Fold3/X/9.PNG',\n",
       " './Folds_Dataset_Final/Fold3/X/5.PNG',\n",
       " './Folds_Dataset_Final/Fold3/X/c11.PNG',\n",
       " './Folds_Dataset_Final/Fold3/X/c15.PNG',\n",
       " './Folds_Dataset_Final/Fold3/X/c6.PNG',\n",
       " './Folds_Dataset_Final/Fold3/X/14.PNG',\n",
       " './Folds_Dataset_Final/Fold3/X/c7.PNG',\n",
       " './Folds_Dataset_Final/Fold3/X/0.PNG',\n",
       " './Folds_Dataset_Final/Fold3/X/c18.PNG',\n",
       " './Folds_Dataset_Final/Fold3/X/12.PNG',\n",
       " './Folds_Dataset_Final/Fold3/X/3.PNG',\n",
       " './Folds_Dataset_Final/Fold3/X/11.PNG',\n",
       " './Folds_Dataset_Final/Fold3/X/c2.PNG',\n",
       " './Folds_Dataset_Final/Fold3/X/c16.PNG',\n",
       " './Folds_Dataset_Final/Fold3/X/c10.PNG',\n",
       " './Folds_Dataset_Final/Fold3/X/c5.PNG',\n",
       " './Folds_Dataset_Final/Fold3/X/4.PNG',\n",
       " './Folds_Dataset_Final/Fold3/X/c12.PNG',\n",
       " './Folds_Dataset_Final/Fold3/X/17.PNG',\n",
       " './Folds_Dataset_Final/Fold3/X/1.PNG',\n",
       " './Folds_Dataset_Final/Fold3/X/c17.PNG',\n",
       " './Folds_Dataset_Final/Fold3/X/c8.PNG',\n",
       " './Folds_Dataset_Final/Fold3/X/c14.PNG',\n",
       " './Folds_Dataset_Final/Fold3/X/15.PNG',\n",
       " './Folds_Dataset_Final/Fold3/X/c13.PNG',\n",
       " './Folds_Dataset_Final/Fold3/X/19.PNG',\n",
       " './Folds_Dataset_Final/Fold3/X/c1.PNG',\n",
       " './Folds_Dataset_Final/Fold3/X/7.PNG',\n",
       " './Folds_Dataset_Final/Fold3/X/c9.PNG',\n",
       " './Folds_Dataset_Final/Fold3/X/c3.PNG',\n",
       " './Folds_Dataset_Final/Fold3/X/10.PNG',\n",
       " './Folds_Dataset_Final/Fold3/X/13.PNG',\n",
       " './Folds_Dataset_Final/Fold3/X/c0.PNG',\n",
       " './Folds_Dataset_Final/Fold4/X/16.PNG',\n",
       " './Folds_Dataset_Final/Fold4/X/c4.PNG',\n",
       " './Folds_Dataset_Final/Fold4/X/8.PNG',\n",
       " './Folds_Dataset_Final/Fold4/X/6.PNG',\n",
       " './Folds_Dataset_Final/Fold4/X/c19.PNG',\n",
       " './Folds_Dataset_Final/Fold4/X/2.PNG',\n",
       " './Folds_Dataset_Final/Fold4/X/18.PNG',\n",
       " './Folds_Dataset_Final/Fold4/X/9.PNG',\n",
       " './Folds_Dataset_Final/Fold4/X/5.PNG',\n",
       " './Folds_Dataset_Final/Fold4/X/c11.PNG',\n",
       " './Folds_Dataset_Final/Fold4/X/c15.PNG',\n",
       " './Folds_Dataset_Final/Fold4/X/c6.PNG',\n",
       " './Folds_Dataset_Final/Fold4/X/14.PNG',\n",
       " './Folds_Dataset_Final/Fold4/X/c7.PNG',\n",
       " './Folds_Dataset_Final/Fold4/X/0.PNG',\n",
       " './Folds_Dataset_Final/Fold4/X/c18.PNG',\n",
       " './Folds_Dataset_Final/Fold4/X/12.PNG',\n",
       " './Folds_Dataset_Final/Fold4/X/3.PNG',\n",
       " './Folds_Dataset_Final/Fold4/X/11.PNG',\n",
       " './Folds_Dataset_Final/Fold4/X/c2.PNG',\n",
       " './Folds_Dataset_Final/Fold4/X/c16.PNG',\n",
       " './Folds_Dataset_Final/Fold4/X/c10.PNG',\n",
       " './Folds_Dataset_Final/Fold4/X/c5.PNG',\n",
       " './Folds_Dataset_Final/Fold4/X/4.PNG',\n",
       " './Folds_Dataset_Final/Fold4/X/c12.PNG',\n",
       " './Folds_Dataset_Final/Fold4/X/17.PNG',\n",
       " './Folds_Dataset_Final/Fold4/X/1.PNG',\n",
       " './Folds_Dataset_Final/Fold4/X/c17.PNG',\n",
       " './Folds_Dataset_Final/Fold4/X/c8.PNG',\n",
       " './Folds_Dataset_Final/Fold4/X/c14.PNG',\n",
       " './Folds_Dataset_Final/Fold4/X/15.PNG',\n",
       " './Folds_Dataset_Final/Fold4/X/c13.PNG',\n",
       " './Folds_Dataset_Final/Fold4/X/19.PNG',\n",
       " './Folds_Dataset_Final/Fold4/X/c1.PNG',\n",
       " './Folds_Dataset_Final/Fold4/X/7.PNG',\n",
       " './Folds_Dataset_Final/Fold4/X/c9.PNG',\n",
       " './Folds_Dataset_Final/Fold4/X/c3.PNG',\n",
       " './Folds_Dataset_Final/Fold4/X/10.PNG',\n",
       " './Folds_Dataset_Final/Fold4/X/13.PNG',\n",
       " './Folds_Dataset_Final/Fold4/X/c0.PNG',\n",
       " './Folds_Dataset_Final/Fold1/X/16.PNG',\n",
       " './Folds_Dataset_Final/Fold1/X/c4.PNG',\n",
       " './Folds_Dataset_Final/Fold1/X/8.PNG',\n",
       " './Folds_Dataset_Final/Fold1/X/6.PNG',\n",
       " './Folds_Dataset_Final/Fold1/X/c19.PNG',\n",
       " './Folds_Dataset_Final/Fold1/X/2.PNG',\n",
       " './Folds_Dataset_Final/Fold1/X/18.PNG',\n",
       " './Folds_Dataset_Final/Fold1/X/9.PNG',\n",
       " './Folds_Dataset_Final/Fold1/X/5.PNG',\n",
       " './Folds_Dataset_Final/Fold1/X/c11.PNG',\n",
       " './Folds_Dataset_Final/Fold1/X/c15.PNG',\n",
       " './Folds_Dataset_Final/Fold1/X/c6.PNG',\n",
       " './Folds_Dataset_Final/Fold1/X/14.PNG',\n",
       " './Folds_Dataset_Final/Fold1/X/c7.PNG',\n",
       " './Folds_Dataset_Final/Fold1/X/0.PNG',\n",
       " './Folds_Dataset_Final/Fold1/X/c18.PNG',\n",
       " './Folds_Dataset_Final/Fold1/X/12.PNG',\n",
       " './Folds_Dataset_Final/Fold1/X/3.PNG',\n",
       " './Folds_Dataset_Final/Fold1/X/11.PNG',\n",
       " './Folds_Dataset_Final/Fold1/X/c2.PNG',\n",
       " './Folds_Dataset_Final/Fold1/X/c16.PNG',\n",
       " './Folds_Dataset_Final/Fold1/X/c10.PNG',\n",
       " './Folds_Dataset_Final/Fold1/X/c5.PNG',\n",
       " './Folds_Dataset_Final/Fold1/X/4.PNG',\n",
       " './Folds_Dataset_Final/Fold1/X/c12.PNG',\n",
       " './Folds_Dataset_Final/Fold1/X/17.PNG',\n",
       " './Folds_Dataset_Final/Fold1/X/1.PNG',\n",
       " './Folds_Dataset_Final/Fold1/X/c17.PNG',\n",
       " './Folds_Dataset_Final/Fold1/X/c8.PNG',\n",
       " './Folds_Dataset_Final/Fold1/X/c14.PNG',\n",
       " './Folds_Dataset_Final/Fold1/X/15.PNG',\n",
       " './Folds_Dataset_Final/Fold1/X/c13.PNG',\n",
       " './Folds_Dataset_Final/Fold1/X/19.PNG',\n",
       " './Folds_Dataset_Final/Fold1/X/c1.PNG',\n",
       " './Folds_Dataset_Final/Fold1/X/7.PNG',\n",
       " './Folds_Dataset_Final/Fold1/X/c9.PNG',\n",
       " './Folds_Dataset_Final/Fold1/X/c3.PNG',\n",
       " './Folds_Dataset_Final/Fold1/X/10.PNG',\n",
       " './Folds_Dataset_Final/Fold1/X/13.PNG',\n",
       " './Folds_Dataset_Final/Fold1/X/c0.PNG',\n",
       " './Folds_Dataset_Final/Fold5/X/16.PNG',\n",
       " './Folds_Dataset_Final/Fold5/X/c4.PNG',\n",
       " './Folds_Dataset_Final/Fold5/X/8.PNG',\n",
       " './Folds_Dataset_Final/Fold5/X/6.PNG',\n",
       " './Folds_Dataset_Final/Fold5/X/c19.PNG',\n",
       " './Folds_Dataset_Final/Fold5/X/2.PNG',\n",
       " './Folds_Dataset_Final/Fold5/X/18.PNG',\n",
       " './Folds_Dataset_Final/Fold5/X/9.PNG',\n",
       " './Folds_Dataset_Final/Fold5/X/5.PNG',\n",
       " './Folds_Dataset_Final/Fold5/X/c11.PNG',\n",
       " './Folds_Dataset_Final/Fold5/X/c15.PNG',\n",
       " './Folds_Dataset_Final/Fold5/X/c6.PNG',\n",
       " './Folds_Dataset_Final/Fold5/X/14.PNG',\n",
       " './Folds_Dataset_Final/Fold5/X/c7.PNG',\n",
       " './Folds_Dataset_Final/Fold5/X/0.PNG',\n",
       " './Folds_Dataset_Final/Fold5/X/c18.PNG',\n",
       " './Folds_Dataset_Final/Fold5/X/12.PNG',\n",
       " './Folds_Dataset_Final/Fold5/X/3.PNG',\n",
       " './Folds_Dataset_Final/Fold5/X/11.PNG',\n",
       " './Folds_Dataset_Final/Fold5/X/c2.PNG',\n",
       " './Folds_Dataset_Final/Fold5/X/c16.PNG',\n",
       " './Folds_Dataset_Final/Fold5/X/c10.PNG',\n",
       " './Folds_Dataset_Final/Fold5/X/c5.PNG',\n",
       " './Folds_Dataset_Final/Fold5/X/4.PNG',\n",
       " './Folds_Dataset_Final/Fold5/X/c12.PNG',\n",
       " './Folds_Dataset_Final/Fold5/X/17.PNG',\n",
       " './Folds_Dataset_Final/Fold5/X/1.PNG',\n",
       " './Folds_Dataset_Final/Fold5/X/c17.PNG',\n",
       " './Folds_Dataset_Final/Fold5/X/c8.PNG',\n",
       " './Folds_Dataset_Final/Fold5/X/c14.PNG',\n",
       " './Folds_Dataset_Final/Fold5/X/15.PNG',\n",
       " './Folds_Dataset_Final/Fold5/X/c13.PNG',\n",
       " './Folds_Dataset_Final/Fold5/X/19.PNG',\n",
       " './Folds_Dataset_Final/Fold5/X/c1.PNG',\n",
       " './Folds_Dataset_Final/Fold5/X/7.PNG',\n",
       " './Folds_Dataset_Final/Fold5/X/c9.PNG',\n",
       " './Folds_Dataset_Final/Fold5/X/c3.PNG',\n",
       " './Folds_Dataset_Final/Fold5/X/10.PNG',\n",
       " './Folds_Dataset_Final/Fold5/X/13.PNG',\n",
       " './Folds_Dataset_Final/Fold5/X/c0.PNG',\n",
       " './Folds_Dataset_Final/Fold2/X/16.PNG',\n",
       " './Folds_Dataset_Final/Fold2/X/c4.PNG',\n",
       " './Folds_Dataset_Final/Fold2/X/8.PNG',\n",
       " './Folds_Dataset_Final/Fold2/X/6.PNG',\n",
       " './Folds_Dataset_Final/Fold2/X/c19.PNG',\n",
       " './Folds_Dataset_Final/Fold2/X/2.PNG',\n",
       " './Folds_Dataset_Final/Fold2/X/18.PNG',\n",
       " './Folds_Dataset_Final/Fold2/X/9.PNG',\n",
       " './Folds_Dataset_Final/Fold2/X/5.PNG',\n",
       " './Folds_Dataset_Final/Fold2/X/c11.PNG',\n",
       " './Folds_Dataset_Final/Fold2/X/c15.PNG',\n",
       " './Folds_Dataset_Final/Fold2/X/c6.PNG',\n",
       " './Folds_Dataset_Final/Fold2/X/14.PNG',\n",
       " './Folds_Dataset_Final/Fold2/X/c7.PNG',\n",
       " './Folds_Dataset_Final/Fold2/X/0.PNG',\n",
       " './Folds_Dataset_Final/Fold2/X/c18.PNG',\n",
       " './Folds_Dataset_Final/Fold2/X/12.PNG',\n",
       " './Folds_Dataset_Final/Fold2/X/3.PNG',\n",
       " './Folds_Dataset_Final/Fold2/X/11.PNG',\n",
       " './Folds_Dataset_Final/Fold2/X/c2.PNG',\n",
       " './Folds_Dataset_Final/Fold2/X/c16.PNG',\n",
       " './Folds_Dataset_Final/Fold2/X/c10.PNG',\n",
       " './Folds_Dataset_Final/Fold2/X/c5.PNG',\n",
       " './Folds_Dataset_Final/Fold2/X/4.PNG',\n",
       " './Folds_Dataset_Final/Fold2/X/c12.PNG',\n",
       " './Folds_Dataset_Final/Fold2/X/17.PNG',\n",
       " './Folds_Dataset_Final/Fold2/X/1.PNG',\n",
       " './Folds_Dataset_Final/Fold2/X/c17.PNG',\n",
       " './Folds_Dataset_Final/Fold2/X/c8.PNG',\n",
       " './Folds_Dataset_Final/Fold2/X/c14.PNG',\n",
       " './Folds_Dataset_Final/Fold2/X/15.PNG',\n",
       " './Folds_Dataset_Final/Fold2/X/c13.PNG',\n",
       " './Folds_Dataset_Final/Fold2/X/19.PNG',\n",
       " './Folds_Dataset_Final/Fold2/X/c1.PNG',\n",
       " './Folds_Dataset_Final/Fold2/X/7.PNG',\n",
       " './Folds_Dataset_Final/Fold2/X/c9.PNG',\n",
       " './Folds_Dataset_Final/Fold2/X/c3.PNG',\n",
       " './Folds_Dataset_Final/Fold2/X/10.PNG',\n",
       " './Folds_Dataset_Final/Fold2/X/13.PNG',\n",
       " './Folds_Dataset_Final/Fold2/X/c0.PNG',\n",
       " './Folds_Dataset_Final/Fold6/X/16.PNG',\n",
       " './Folds_Dataset_Final/Fold6/X/c4.PNG',\n",
       " './Folds_Dataset_Final/Fold6/X/8.PNG',\n",
       " './Folds_Dataset_Final/Fold6/X/6.PNG',\n",
       " './Folds_Dataset_Final/Fold6/X/c19.PNG',\n",
       " './Folds_Dataset_Final/Fold6/X/2.PNG',\n",
       " './Folds_Dataset_Final/Fold6/X/18.PNG',\n",
       " './Folds_Dataset_Final/Fold6/X/9.PNG',\n",
       " './Folds_Dataset_Final/Fold6/X/5.PNG',\n",
       " './Folds_Dataset_Final/Fold6/X/c11.PNG',\n",
       " './Folds_Dataset_Final/Fold6/X/c15.PNG',\n",
       " './Folds_Dataset_Final/Fold6/X/c6.PNG',\n",
       " './Folds_Dataset_Final/Fold6/X/14.PNG',\n",
       " './Folds_Dataset_Final/Fold6/X/c7.PNG',\n",
       " './Folds_Dataset_Final/Fold6/X/0.PNG',\n",
       " './Folds_Dataset_Final/Fold6/X/c18.PNG',\n",
       " './Folds_Dataset_Final/Fold6/X/12.PNG',\n",
       " './Folds_Dataset_Final/Fold6/X/3.PNG',\n",
       " './Folds_Dataset_Final/Fold6/X/11.PNG',\n",
       " './Folds_Dataset_Final/Fold6/X/c2.PNG',\n",
       " './Folds_Dataset_Final/Fold6/X/c16.PNG',\n",
       " './Folds_Dataset_Final/Fold6/X/c10.PNG',\n",
       " './Folds_Dataset_Final/Fold6/X/c5.PNG',\n",
       " './Folds_Dataset_Final/Fold6/X/4.PNG',\n",
       " './Folds_Dataset_Final/Fold6/X/c12.PNG',\n",
       " './Folds_Dataset_Final/Fold6/X/17.PNG',\n",
       " './Folds_Dataset_Final/Fold6/X/1.PNG',\n",
       " './Folds_Dataset_Final/Fold6/X/c17.PNG',\n",
       " './Folds_Dataset_Final/Fold6/X/c8.PNG',\n",
       " './Folds_Dataset_Final/Fold6/X/c14.PNG',\n",
       " './Folds_Dataset_Final/Fold6/X/15.PNG',\n",
       " './Folds_Dataset_Final/Fold6/X/c13.PNG',\n",
       " './Folds_Dataset_Final/Fold6/X/19.PNG',\n",
       " './Folds_Dataset_Final/Fold6/X/c1.PNG',\n",
       " './Folds_Dataset_Final/Fold6/X/7.PNG',\n",
       " './Folds_Dataset_Final/Fold6/X/c9.PNG',\n",
       " './Folds_Dataset_Final/Fold6/X/c3.PNG',\n",
       " './Folds_Dataset_Final/Fold6/X/10.PNG',\n",
       " './Folds_Dataset_Final/Fold6/X/13.PNG',\n",
       " './Folds_Dataset_Final/Fold6/X/c0.PNG']"
      ]
     },
     "execution_count": 3,
     "metadata": {},
     "output_type": "execute_result"
    }
   ],
   "source": [
    "img_paths[\"X\"]"
   ]
  },
  {
   "cell_type": "code",
   "execution_count": 4,
   "id": "1a9ab092",
   "metadata": {},
   "outputs": [
    {
     "data": {
      "image/png": "[encoded data removed]",
      "text/plain": [
       "<Figure size 432x288 with 1 Axes>"
      ]
     },
     "metadata": {
      "needs_background": "light"
     },
     "output_type": "display_data"
    }
   ],
   "source": [
    "img = rgb2gray(plt.imread(\"./Folds_Dataset_Final/Fold3/X/16.PNG\"))\n",
    "plt.imshow(img, cmap=\"gray\")\n",
    "plt.show()"
   ]
  },
  {
   "cell_type": "code",
   "execution_count": 5,
   "id": "5c57b540",
   "metadata": {},
   "outputs": [
    {
     "data": {
      "image/png": "[encoded data removed]",
      "text/plain": [
       "<Figure size 432x288 with 1 Axes>"
      ]
     },
     "metadata": {
      "needs_background": "light"
     },
     "output_type": "display_data"
    }
   ],
   "source": [
    "img_mask = rgb2gray(plt.imread(\"./Folds_Dataset_Final/Fold3/X/c16.PNG\"))\n",
    "plt.imshow(img_mask, cmap=\"gray\")\n",
    "plt.show()"
   ]
  },
  {
   "cell_type": "code",
   "execution_count": 6,
   "id": "7f823647",
   "metadata": {},
   "outputs": [
    {
     "name": "stdout",
     "output_type": "stream",
     "text": [
      "(50, 50)\n"
     ]
    }
   ],
   "source": [
    "print(img.shape)"
   ]
  },
  {
   "cell_type": "markdown",
   "id": "5f5fbc2e",
   "metadata": {},
   "source": [
    "Entre as classes de letras presentes, faltam as letras $H,J,K$ e $Z$. Vamos utilizar as classes presentes $Casa$, $Junto$, $Pequeno$ e $Verbo$ para substituí-las respectivamente."
   ]
  },
  {
   "cell_type": "code",
   "execution_count": 7,
   "id": "4dcb5679",
   "metadata": {},
   "outputs": [],
   "source": [
    "img_paths[\"Z\"] = img_paths[\"Verbo\"]\n",
    "img_paths[\"K\"] = img_paths[\"Pequeno\"]\n",
    "img_paths[\"J\"] = img_paths[\"Junto\"]\n",
    "img_paths[\"H\"] = img_paths[\"Casa\"]"
   ]
  },
  {
   "cell_type": "code",
   "execution_count": 8,
   "id": "7a9e7af5",
   "metadata": {},
   "outputs": [],
   "source": [
    "# ignoraremos as demais classes\n",
    "keys = list(img_paths.keys())\n",
    "for key in keys:\n",
    "    if (key not in ['A','B','C','D','E','F','G','H','I','J','K','L','M','N','O','P','Q','R','S','T','U','V','W','X','Y','Z']):\n",
    "        del img_paths[key]"
   ]
  },
  {
   "cell_type": "code",
   "execution_count": 9,
   "id": "9db68f1e",
   "metadata": {},
   "outputs": [],
   "source": [
    "dataset,dataset_mask, dataset_3channel, y = [], [], [], []\n",
    "for key in img_paths.keys():\n",
    "    paths = img_paths[key]\n",
    "    for path in paths:\n",
    "        path = path.split(\"/\")\n",
    "        if ('c' not in path[-1]):\n",
    "            y.append(key)\n",
    "            image = rgb2gray(plt.imread('/'.join(path)))\n",
    "            image_mask = rgb2gray(io.imread('/'.join(path[:-1])+'/c'+path[-1]))\n",
    "            dataset.append(image)\n",
    "            dataset_mask.append(image_mask)\n",
    "            dataset_3channel.append(io.imread('/'.join(path)))"
   ]
  },
  {
   "cell_type": "markdown",
   "id": "e2dffb41",
   "metadata": {},
   "source": [
    "## Abordagem Descritores de Textura\n",
    "\n",
    "Nessa etapa, seguindo o paper *Recognition of Static Gestures Applied to Brazilian Sign Language (Libras)* (Bastos, I. et al.) foram utilizados os descritores de textura Zernike e HOG (*Histogram of Oriented Gradients*), nas imagens em gayscale e binarizadas, respectivamente."
   ]
  },
  {
   "cell_type": "code",
   "execution_count": 10,
   "id": "cad83044",
   "metadata": {},
   "outputs": [],
   "source": [
    "def extract_features(img_gray, img_mask):\n",
    "    zernike = mt.features.zernike_moments(img_gray, 3)\n",
    "    fd = hog(img_mask, orientations=9, pixels_per_cell=(8, 8),\n",
    "                        cells_per_block=(2, 2))\n",
    "    return list(zernike)+list(fd)"
   ]
  },
  {
   "cell_type": "code",
   "execution_count": 11,
   "id": "70757112",
   "metadata": {},
   "outputs": [
    {
     "name": "stdout",
     "output_type": "stream",
     "text": [
      "3120\n"
     ]
    }
   ],
   "source": [
    "X = [extract_features(img, img_mask) for img, img_mask in zip(dataset, dataset_mask)]\n",
    "print(len(X))"
   ]
  },
  {
   "cell_type": "code",
   "execution_count": 12,
   "id": "20f6c238",
   "metadata": {},
   "outputs": [
    {
     "name": "stdout",
     "output_type": "stream",
     "text": [
      "Acurácia: 0.9893162393162394\n"
     ]
    }
   ],
   "source": [
    "from sklearn.model_selection import train_test_split\n",
    "from sklearn.svm import SVC\n",
    "from sklearn.metrics import accuracy_score\n",
    "\n",
    "X_train, X_test, y_train, y_test, data_train, data_test = train_test_split(X, y, dataset, test_size=0.3, random_state=42)\n",
    "model = SVC(kernel='rbf', degree=3, gamma='scale', random_state=42)\n",
    "model.fit(X_train, y_train)\n",
    "\n",
    "y_predict = model.predict(X_test)\n",
    "print(f\"Acurácia: {accuracy_score(y_predict, y_test)}\")"
   ]
  },
  {
   "cell_type": "code",
   "execution_count": 13,
   "id": "c8db921c",
   "metadata": {},
   "outputs": [
    {
     "name": "stdout",
     "output_type": "stream",
     "text": [
      "Predição: I\n",
      "Esperado: I\n"
     ]
    },
    {
     "data": {
      "image/png": "[encoded data removed]",
      "text/plain": [
       "<Figure size 432x288 with 1 Axes>"
      ]
     },
     "metadata": {
      "needs_background": "light"
     },
     "output_type": "display_data"
    }
   ],
   "source": [
    "IDX = 442\n",
    "\n",
    "plt.imshow(data_test[IDX], cmap=\"gray\")\n",
    "print(f\"Predição: {model.predict([X_test[IDX]])[0]}\")\n",
    "print(f\"Esperado: {y_test[IDX]}\")"
   ]
  },
  {
   "cell_type": "code",
   "execution_count": 14,
   "id": "10e581d1",
   "metadata": {},
   "outputs": [
    {
     "data": {
      "text/plain": [
       "['libras.joblib']"
      ]
     },
     "execution_count": 14,
     "metadata": {},
     "output_type": "execute_result"
    }
   ],
   "source": [
    "# Salvando classificador treinado\n",
    "from joblib import dump\n",
    "\n",
    "model = SVC(kernel='rbf', degree=3, gamma='scale', random_state=42)\n",
    "model.fit(X, y)\n",
    "dump(model, \"libras.joblib\")"
   ]
  },
  {
   "cell_type": "markdown",
   "id": "0d01f1bc",
   "metadata": {},
   "source": [
    "## Abordagem CNN\n",
    "\n",
    "Em sequência, uma CNN foi utilizada apenas nas imagens em grayscale para comparação."
   ]
  },
  {
   "cell_type": "code",
   "execution_count": 15,
   "id": "8a2de807",
   "metadata": {},
   "outputs": [],
   "source": [
    "from tensorflow.keras.utils import to_categorical\n",
    "from sklearn.preprocessing import LabelEncoder\n",
    "\n",
    "y_categorical = to_categorical(LabelEncoder().fit_transform(y))\n",
    "X_train, X_test, y_train, y_test = train_test_split(dataset_3channel, y_categorical, test_size=0.3, random_state=42)"
   ]
  },
  {
   "cell_type": "code",
   "execution_count": 16,
   "id": "a31c3e93",
   "metadata": {},
   "outputs": [
    {
     "name": "stdout",
     "output_type": "stream",
     "text": [
      "Model: \"sequential\"\n",
      "_________________________________________________________________\n",
      " Layer (type)                Output Shape              Param #   \n",
      "=================================================================\n",
      " conv2d (Conv2D)             (None, 48, 48, 32)        896       \n",
      "                                                                 \n",
      " activation (Activation)     (None, 48, 48, 32)        0         \n",
      "                                                                 \n",
      " max_pooling2d (MaxPooling2D  (None, 24, 24, 32)       0         \n",
      " )                                                               \n",
      "                                                                 \n",
      " conv2d_1 (Conv2D)           (None, 22, 22, 32)        9248      \n",
      "                                                                 \n",
      " activation_1 (Activation)   (None, 22, 22, 32)        0         \n",
      "                                                                 \n",
      " max_pooling2d_1 (MaxPooling  (None, 11, 11, 32)       0         \n",
      " 2D)                                                             \n",
      "                                                                 \n",
      " conv2d_2 (Conv2D)           (None, 9, 9, 64)          18496     \n",
      "                                                                 \n",
      " activation_2 (Activation)   (None, 9, 9, 64)          0         \n",
      "                                                                 \n",
      " max_pooling2d_2 (MaxPooling  (None, 4, 4, 64)         0         \n",
      " 2D)                                                             \n",
      "                                                                 \n",
      " flatten (Flatten)           (None, 1024)              0         \n",
      "                                                                 \n",
      " dense (Dense)               (None, 64)                65600     \n",
      "                                                                 \n",
      " activation_3 (Activation)   (None, 64)                0         \n",
      "                                                                 \n",
      " dropout (Dropout)           (None, 64)                0         \n",
      "                                                                 \n",
      " dense_1 (Dense)             (None, 26)                1690      \n",
      "                                                                 \n",
      " activation_4 (Activation)   (None, 26)                0         \n",
      "                                                                 \n",
      "=================================================================\n",
      "Total params: 95,930\n",
      "Trainable params: 95,930\n",
      "Non-trainable params: 0\n",
      "_________________________________________________________________\n"
     ]
    }
   ],
   "source": [
    "from keras.preprocessing.image import ImageDataGenerator\n",
    "from keras.models import Sequential\n",
    "from keras.layers import Conv2D, MaxPooling2D\n",
    "from keras.layers import Activation, Dropout, Flatten, Dense\n",
    "from keras import backend as K\n",
    "\n",
    "img_width, img_height = 50, 50\n",
    "nb_train_samples = len(X_train)\n",
    "nb_test_samples = len(X_test)\n",
    "epochs = 50\n",
    "batch_size = 64\n",
    "\n",
    "if K.image_data_format() == 'channels_first':\n",
    "    input_shape = (3, img_width, img_height)\n",
    "else:\n",
    "    input_shape = (img_width, img_height, 3)\n",
    "\n",
    "model = Sequential()\n",
    "model.add(Conv2D(32, (3, 3), input_shape=input_shape))\n",
    "model.add(Activation('relu'))\n",
    "model.add(MaxPooling2D(pool_size=(2, 2)))\n",
    "\n",
    "model.add(Conv2D(32, (3, 3)))\n",
    "model.add(Activation('relu'))\n",
    "model.add(MaxPooling2D(pool_size=(2, 2)))\n",
    "\n",
    "model.add(Conv2D(64, (3, 3)))\n",
    "model.add(Activation('relu'))\n",
    "model.add(MaxPooling2D(pool_size=(2, 2)))\n",
    "\n",
    "model.add(Flatten())\n",
    "model.add(Dense(64))\n",
    "model.add(Activation('relu'))\n",
    "model.add(Dropout(0.5))\n",
    "model.add(Dense(26))\n",
    "model.add(Activation('sigmoid'))\n",
    "\n",
    "model.compile(loss='categorical_crossentropy',\n",
    "              optimizer='rmsprop',\n",
    "              metrics=['accuracy'])\n",
    "\n",
    "model.summary()"
   ]
  },
  {
   "cell_type": "code",
   "execution_count": 17,
   "id": "bdb76513",
   "metadata": {},
   "outputs": [],
   "source": [
    "train_datagen = ImageDataGenerator(\n",
    "    rescale=1. / 255,\n",
    "    shear_range=0.2,\n",
    "    zoom_range=0.2,\n",
    "    horizontal_flip=True)\n",
    "\n",
    "test_datagen = ImageDataGenerator(rescale=1. / 255)\n",
    "\n",
    "train_generator = train_datagen.flow(np.array(X_train), y=np.array(y_train), batch_size=batch_size)\n",
    "test_generator = test_datagen.flow(np.array(X_test), y=np.array(y_test), batch_size=batch_size)"
   ]
  },
  {
   "cell_type": "code",
   "execution_count": 18,
   "id": "d36bdb56",
   "metadata": {},
   "outputs": [
    {
     "name": "stdout",
     "output_type": "stream",
     "text": [
      "[0. 0. 0. 0. 0. 0. 0. 0. 0. 0. 0. 0. 0. 0. 0. 0. 0. 0. 0. 1. 0. 0. 0. 0.\n",
      " 0. 0.]\n"
     ]
    },
    {
     "data": {
      "text/plain": [
       "<matplotlib.image.AxesImage at 0x7f1bec2b7a90>"
      ]
     },
     "execution_count": 18,
     "metadata": {},
     "output_type": "execute_result"
    },
    {
     "data": {
      "image/png": "[encoded data removed]",
      "text/plain": [
       "<Figure size 432x288 with 1 Axes>"
      ]
     },
     "metadata": {
      "needs_background": "light"
     },
     "output_type": "display_data"
    }
   ],
   "source": [
    "X,Y = train_generator.next()\n",
    "print(Y[0])\n",
    "plt.imshow(X[0], cmap='gray')"
   ]
  },
  {
   "cell_type": "code",
   "execution_count": null,
   "id": "7e026590",
   "metadata": {},
   "outputs": [
    {
     "name": "stderr",
     "output_type": "stream",
     "text": [
      "<ipython-input-19-3914e9f5457c>:1: UserWarning: `Model.fit_generator` is deprecated and will be removed in a future version. Please use `Model.fit`, which supports generators.\n",
      "  model.fit_generator(\n"
     ]
    },
    {
     "name": "stdout",
     "output_type": "stream",
     "text": [
      "Epoch 1/50\n",
      "34/34 [==============================] - 3s 79ms/step - loss: 3.2589 - accuracy: 0.0448 - val_loss: 3.2138 - val_accuracy: 0.1049\n",
      "Epoch 2/50\n",
      "34/34 [==============================] - 3s 83ms/step - loss: 3.0486 - accuracy: 0.1330 - val_loss: 2.6543 - val_accuracy: 0.2790\n",
      "Epoch 3/50\n",
      "34/34 [==============================] - 3s 88ms/step - loss: 2.5701 - accuracy: 0.2519 - val_loss: 2.0779 - val_accuracy: 0.4944\n",
      "Epoch 4/50\n",
      "34/34 [==============================] - 4s 105ms/step - loss: 2.1102 - accuracy: 0.3858 - val_loss: 1.5052 - val_accuracy: 0.7165\n",
      "Epoch 5/50\n",
      "34/34 [==============================] - 3s 91ms/step - loss: 1.7474 - accuracy: 0.4741 - val_loss: 1.0101 - val_accuracy: 0.7801\n",
      "Epoch 6/50\n",
      "34/34 [==============================] - 3s 98ms/step - loss: 1.4981 - accuracy: 0.5453 - val_loss: 0.7988 - val_accuracy: 0.8304\n",
      "Epoch 7/50\n",
      "34/34 [==============================] - 4s 103ms/step - loss: 1.3275 - accuracy: 0.5906 - val_loss: 0.6492 - val_accuracy: 0.8705\n",
      "Epoch 8/50\n",
      "34/34 [==============================] - 3s 97ms/step - loss: 1.1974 - accuracy: 0.6259 - val_loss: 0.4777 - val_accuracy: 0.8917\n",
      "Epoch 9/50\n",
      "34/34 [==============================] - 4s 106ms/step - loss: 1.0160 - accuracy: 0.6792 - val_loss: 0.4073 - val_accuracy: 0.9208\n",
      "Epoch 10/50\n",
      "34/34 [==============================] - 4s 104ms/step - loss: 0.8979 - accuracy: 0.7259 - val_loss: 0.2720 - val_accuracy: 0.9420\n",
      "Epoch 11/50\n",
      "34/34 [==============================] - 3s 92ms/step - loss: 0.8200 - accuracy: 0.7396 - val_loss: 0.2078 - val_accuracy: 0.9442\n",
      "Epoch 12/50\n",
      "34/34 [==============================] - 3s 96ms/step - loss: 0.6948 - accuracy: 0.7825 - val_loss: 0.2352 - val_accuracy: 0.9464\n",
      "Epoch 13/50\n",
      "34/34 [==============================] - 4s 113ms/step - loss: 0.6672 - accuracy: 0.7915 - val_loss: 0.1621 - val_accuracy: 0.9665\n",
      "Epoch 14/50\n",
      "34/34 [==============================] - 3s 95ms/step - loss: 0.6126 - accuracy: 0.8080 - val_loss: 0.1298 - val_accuracy: 0.9688\n",
      "Epoch 15/50\n",
      "34/34 [==============================] - 3s 86ms/step - loss: 0.5812 - accuracy: 0.8179 - val_loss: 0.1165 - val_accuracy: 0.9754\n",
      "Epoch 16/50\n",
      "34/34 [==============================] - 3s 86ms/step - loss: 0.5290 - accuracy: 0.8396 - val_loss: 0.1048 - val_accuracy: 0.9743\n",
      "Epoch 17/50\n",
      "34/34 [==============================] - 3s 99ms/step - loss: 0.5009 - accuracy: 0.8467 - val_loss: 0.0848 - val_accuracy: 0.9766\n",
      "Epoch 18/50\n",
      "34/34 [==============================] - 4s 105ms/step - loss: 0.4611 - accuracy: 0.8495 - val_loss: 0.0886 - val_accuracy: 0.9810\n",
      "Epoch 19/50\n",
      "34/34 [==============================] - 4s 113ms/step - loss: 0.4035 - accuracy: 0.8736 - val_loss: 0.0825 - val_accuracy: 0.9788\n",
      "Epoch 20/50\n",
      "34/34 [==============================] - 3s 90ms/step - loss: 0.3996 - accuracy: 0.8712 - val_loss: 0.0625 - val_accuracy: 0.9810\n",
      "Epoch 21/50\n",
      "34/34 [==============================] - 3s 88ms/step - loss: 0.3449 - accuracy: 0.8910 - val_loss: 0.0611 - val_accuracy: 0.9877\n",
      "Epoch 22/50\n",
      "34/34 [==============================] - 3s 96ms/step - loss: 0.3249 - accuracy: 0.8958 - val_loss: 0.0537 - val_accuracy: 0.9855\n",
      "Epoch 23/50\n",
      "34/34 [==============================] - 3s 96ms/step - loss: 0.3403 - accuracy: 0.8877 - val_loss: 0.0440 - val_accuracy: 0.9877\n",
      "Epoch 24/50\n",
      "34/34 [==============================] - 3s 89ms/step - loss: 0.2974 - accuracy: 0.9085 - val_loss: 0.0625 - val_accuracy: 0.9799\n",
      "Epoch 25/50\n",
      "34/34 [==============================] - 3s 88ms/step - loss: 0.2979 - accuracy: 0.9028 - val_loss: 0.0502 - val_accuracy: 0.9900\n",
      "Epoch 26/50\n",
      "34/34 [==============================] - 3s 101ms/step - loss: 0.2968 - accuracy: 0.9085 - val_loss: 0.0460 - val_accuracy: 0.9877\n",
      "Epoch 27/50\n",
      "34/34 [==============================] - 3s 102ms/step - loss: 0.2658 - accuracy: 0.9142 - val_loss: 0.0413 - val_accuracy: 0.9877\n",
      "Epoch 28/50\n",
      "34/34 [==============================] - 3s 88ms/step - loss: 0.2611 - accuracy: 0.9137 - val_loss: 0.0413 - val_accuracy: 0.9866\n",
      "Epoch 29/50\n",
      "34/34 [==============================] - 3s 89ms/step - loss: 0.2332 - accuracy: 0.9311 - val_loss: 0.0413 - val_accuracy: 0.9888\n",
      "Epoch 30/50\n",
      "34/34 [==============================] - 3s 86ms/step - loss: 0.2376 - accuracy: 0.9231 - val_loss: 0.0374 - val_accuracy: 0.9900\n",
      "Epoch 31/50\n",
      "34/34 [==============================] - 3s 86ms/step - loss: 0.2183 - accuracy: 0.9278 - val_loss: 0.0595 - val_accuracy: 0.9799\n",
      "Epoch 32/50\n",
      "34/34 [==============================] - 3s 90ms/step - loss: 0.2651 - accuracy: 0.9137 - val_loss: 0.0340 - val_accuracy: 0.9888\n",
      "Epoch 33/50\n",
      "34/34 [==============================] - 3s 89ms/step - loss: 0.1961 - accuracy: 0.9330 - val_loss: 0.0347 - val_accuracy: 0.9844\n",
      "Epoch 34/50\n",
      "34/34 [==============================] - 3s 90ms/step - loss: 0.2214 - accuracy: 0.9165 - val_loss: 0.0500 - val_accuracy: 0.9844\n",
      "Epoch 35/50\n",
      "34/34 [==============================] - 3s 87ms/step - loss: 0.1954 - accuracy: 0.9302 - val_loss: 0.0414 - val_accuracy: 0.9900\n",
      "Epoch 36/50\n",
      "34/34 [==============================] - 3s 88ms/step - loss: 0.1920 - accuracy: 0.9344 - val_loss: 0.0231 - val_accuracy: 0.9955\n",
      "Epoch 37/50\n",
      "34/34 [==============================] - 3s 88ms/step - loss: 0.1750 - accuracy: 0.9476 - val_loss: 0.0343 - val_accuracy: 0.9888\n",
      "Epoch 38/50\n",
      "34/34 [==============================] - 3s 86ms/step - loss: 0.1867 - accuracy: 0.9321 - val_loss: 0.0361 - val_accuracy: 0.9855\n",
      "Epoch 39/50\n",
      "34/34 [==============================] - 3s 87ms/step - loss: 0.1700 - accuracy: 0.9495 - val_loss: 0.0345 - val_accuracy: 0.9877\n",
      "Epoch 40/50\n",
      "34/34 [==============================] - 3s 92ms/step - loss: 0.1952 - accuracy: 0.9392 - val_loss: 0.0359 - val_accuracy: 0.9888\n",
      "Epoch 41/50\n",
      "34/34 [==============================] - 3s 99ms/step - loss: 0.1778 - accuracy: 0.9425 - val_loss: 0.0237 - val_accuracy: 0.9933\n",
      "Epoch 42/50\n",
      "34/34 [==============================] - 3s 102ms/step - loss: 0.1815 - accuracy: 0.9415 - val_loss: 0.0194 - val_accuracy: 0.9933\n",
      "Epoch 43/50\n",
      "34/34 [==============================] - 3s 92ms/step - loss: 0.1590 - accuracy: 0.9500 - val_loss: 0.0130 - val_accuracy: 0.9967\n",
      "Epoch 44/50\n",
      "34/34 [==============================] - 3s 95ms/step - loss: 0.1506 - accuracy: 0.9476 - val_loss: 0.0286 - val_accuracy: 0.9911\n",
      "Epoch 45/50\n",
      "34/34 [==============================] - 3s 94ms/step - loss: 0.1574 - accuracy: 0.9453 - val_loss: 0.0185 - val_accuracy: 0.9955\n",
      "Epoch 46/50\n",
      "34/34 [==============================] - 3s 90ms/step - loss: 0.1414 - accuracy: 0.9552 - val_loss: 0.0233 - val_accuracy: 0.9955\n",
      "Epoch 47/50\n",
      "34/34 [==============================] - 3s 85ms/step - loss: 0.1416 - accuracy: 0.9514 - val_loss: 0.0261 - val_accuracy: 0.9944\n",
      "Epoch 48/50\n",
      "11/34 [========>.....................] - ETA: 1s - loss: 0.1593 - accuracy: 0.9517"
     ]
    }
   ],
   "source": [
    "model.fit_generator(\n",
    "    train_generator,\n",
    "    steps_per_epoch=nb_train_samples // batch_size,\n",
    "    epochs=epochs,\n",
    "    validation_data=test_generator,\n",
    "    validation_steps=nb_test_samples // batch_size)"
   ]
  },
  {
   "cell_type": "markdown",
   "id": "fd848d0c",
   "metadata": {},
   "source": [
    "## Conclusões\n",
    "\n",
    "Usando os descritores de textura obtivemos uma acurácia de $0.989$ em teste, ao passo que utilizando a rede convolucional foi obtido um score de $0.948$. Isso possivelmente se deve à combinação dos dois descritores, usando a imagem da mão destacada como um conhecimento externo que contribui positivamente no treinamento. \n",
    "\n",
    "Na aplicação desenvolvida, foi usado o **Kinnect** contendo um sensor de profundidade, possibilitando a extração das imagens nesse formato de maneira eficiente. Combinado ao menor uso de memória e tempo de execução dessa abordagdem, ela se mostrou mais eficiente em especial para o uso em tempo real."
   ]
  }
 ],
 "metadata": {
  "kernelspec": {
   "display_name": "Python 3",
   "language": "python",
   "name": "python3"
  },
  "language_info": {
   "codemirror_mode": {
    "name": "ipython",
    "version": 3
   },
   "file_extension": ".py",
   "mimetype": "text/x-python",
   "name": "python",
   "nbconvert_exporter": "python",
   "pygments_lexer": "ipython3",
   "version": "3.9.9"
  }
 },
 "nbformat": 4,
 "nbformat_minor": 5
}
